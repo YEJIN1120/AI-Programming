{
 "cells": [
  {
   "cell_type": "markdown",
   "metadata": {},
   "source": [
    "\n",
    "실습 과제1: NumPy를 활용한 행렬 변형 실습\n",
    "문제 1: 난수 행렬 생성\n",
    "N = 6과 M = 5로 설정하고, 0과 1 사이의 난수를 사용하여 (N, M) 형태의 행렬 A를 생성하세요.\n",
    "힌트: np.random.rand() 함수를 사용하세요.\n",
    "\n",
    "문제 2: 새로운 축 추가\n",
    "행렬 A에 np.newaxis를 사용하여 새로운 축을 추가하고, 결과를 B에 저장하세요. B의 형태는 (N, 1, M)이 되어야 합니다.\n",
    "\n",
    "문제 3: 슬라이싱을 이용한 특정 요소 변경\n",
    "행렬 B에서 세 번째 행의 모든 열을 슬라이싱하여 값을 0.3으로 변경하세요.\n",
    "\n",
    "문제 4: 축 위치를 다르게 설정하여 새로운 행렬 생성\n",
    "np.newaxis를 사용하여 A의 형태를 (1, N, M)로 변형한 결과를 C에 저장하고, (N, M, 1)로 변형한 결과를 D에 저장하세요. 각 행렬의 형태를 출력하여 확인하세요.\n",
    "\n",
    "문제 5: 슬라이싱을 통해 부분 행렬 변경\n",
    "행렬 D에서 마지막 세 행의 모든 요소를 0.8로 변경하세요.\n",
    "\n"
   ]
  },
  {
   "cell_type": "code",
   "execution_count": 111,
   "metadata": {},
   "outputs": [
    {
     "data": {
      "text/plain": [
       "array([[0.49867952, 0.39343267, 0.24816426, 0.74404565, 0.18399769],\n",
       "       [0.6532678 , 0.50745145, 0.53731264, 0.53096031, 0.38765487],\n",
       "       [0.10184411, 0.30692066, 0.18358085, 0.40276178, 0.19628411],\n",
       "       [0.49479033, 0.61994355, 0.60473577, 0.3511554 , 0.27897801],\n",
       "       [0.36238961, 0.33007569, 0.54810003, 0.73339158, 0.49030653],\n",
       "       [0.85562312, 0.3697361 , 0.03878627, 0.8397982 , 0.99676052]])"
      ]
     },
     "execution_count": 111,
     "metadata": {},
     "output_type": "execute_result"
    }
   ],
   "source": [
    "import numpy as np\n",
    "N = 6\n",
    "M = 5\n",
    "A = np.random.rand(N,M)\n",
    "A"
   ]
  },
  {
   "cell_type": "code",
   "execution_count": 112,
   "metadata": {},
   "outputs": [
    {
     "data": {
      "text/plain": [
       "(6, 1, 5)"
      ]
     },
     "execution_count": 112,
     "metadata": {},
     "output_type": "execute_result"
    }
   ],
   "source": [
    "B = A[:, np.newaxis, :]\n",
    "B.shape"
   ]
  },
  {
   "cell_type": "code",
   "execution_count": 109,
   "metadata": {},
   "outputs": [
    {
     "data": {
      "text/plain": [
       "array([[[0.9103396 , 0.66635317, 0.86652172, 0.99951264, 0.22340173]],\n",
       "\n",
       "       [[0.16805629, 0.8723381 , 0.38195991, 0.95066234, 0.49272822]],\n",
       "\n",
       "       [[0.3       , 0.3       , 0.3       , 0.3       , 0.3       ]],\n",
       "\n",
       "       [[0.07377912, 0.49933628, 0.38152413, 0.68956108, 0.6198118 ]],\n",
       "\n",
       "       [[0.45830711, 0.40769693, 0.13792311, 0.58464252, 0.38674509]],\n",
       "\n",
       "       [[0.00437219, 0.9957334 , 0.44049854, 0.99768166, 0.30584935]]])"
      ]
     },
     "execution_count": 109,
     "metadata": {},
     "output_type": "execute_result"
    }
   ],
   "source": [
    "B[2,:] = 0.3\n",
    "B"
   ]
  },
  {
   "cell_type": "code",
   "execution_count": 113,
   "metadata": {},
   "outputs": [
    {
     "data": {
      "text/plain": [
       "(1, 6, 5)"
      ]
     },
     "execution_count": 113,
     "metadata": {},
     "output_type": "execute_result"
    }
   ],
   "source": [
    "C = A[np.newaxis,:, :]\n",
    "C.shape"
   ]
  },
  {
   "cell_type": "code",
   "execution_count": 116,
   "metadata": {},
   "outputs": [
    {
     "data": {
      "text/plain": [
       "(6, 5, 1)"
      ]
     },
     "execution_count": 116,
     "metadata": {},
     "output_type": "execute_result"
    }
   ],
   "source": [
    "D = A[:,:,np.newaxis]\n",
    "D.shape"
   ]
  },
  {
   "cell_type": "code",
   "execution_count": 115,
   "metadata": {},
   "outputs": [
    {
     "data": {
      "text/plain": [
       "array([[[0.49867952],\n",
       "        [0.39343267],\n",
       "        [0.24816426],\n",
       "        [0.74404565],\n",
       "        [0.18399769]],\n",
       "\n",
       "       [[0.6532678 ],\n",
       "        [0.50745145],\n",
       "        [0.53731264],\n",
       "        [0.53096031],\n",
       "        [0.38765487]],\n",
       "\n",
       "       [[0.10184411],\n",
       "        [0.30692066],\n",
       "        [0.18358085],\n",
       "        [0.40276178],\n",
       "        [0.19628411]],\n",
       "\n",
       "       [[0.8       ],\n",
       "        [0.8       ],\n",
       "        [0.8       ],\n",
       "        [0.8       ],\n",
       "        [0.8       ]],\n",
       "\n",
       "       [[0.8       ],\n",
       "        [0.8       ],\n",
       "        [0.8       ],\n",
       "        [0.8       ],\n",
       "        [0.8       ]],\n",
       "\n",
       "       [[0.8       ],\n",
       "        [0.8       ],\n",
       "        [0.8       ],\n",
       "        [0.8       ],\n",
       "        [0.8       ]]])"
      ]
     },
     "execution_count": 115,
     "metadata": {},
     "output_type": "execute_result"
    }
   ],
   "source": [
    "D[-3:,:,:] = 0.8\n",
    "D"
   ]
  }
 ],
 "metadata": {
  "kernelspec": {
   "display_name": "Python 3",
   "language": "python",
   "name": "python3"
  },
  "language_info": {
   "codemirror_mode": {
    "name": "ipython",
    "version": 3
   },
   "file_extension": ".py",
   "mimetype": "text/x-python",
   "name": "python",
   "nbconvert_exporter": "python",
   "pygments_lexer": "ipython3",
   "version": "3.9.13"
  }
 },
 "nbformat": 4,
 "nbformat_minor": 2
}
