{
 "cells": [
  {
   "cell_type": "code",
   "execution_count": 1,
   "id": "cc47fb75-2502-4ff8-bd52-bdef40eb9d29",
   "metadata": {},
   "outputs": [
    {
     "name": "stdout",
     "output_type": "stream",
     "text": [
      " C 드라이브의 볼륨에는 이름이 없습니다.\n",
      " 볼륨 일련 번호: 58B3-92B1\n",
      "\n",
      " C:\\Python\\AI프로그래밍 디렉터리\n",
      "\n",
      "2024-11-12  오전 11:22    <DIR>          .\n",
      "2024-11-12  오전 11:22    <DIR>          ..\n",
      "2024-11-12  오전 11:22    <DIR>          .ipynb_checkpoints\n",
      "2024-11-12  오전 10:51               135 myscript.py\n",
      "2024-11-12  오전 09:30    <DIR>          PythonDataScienceHandbook-master\n",
      "2024-11-12  오전 11:20                72 Untitled.ipynb\n",
      "2024-11-12  오전 11:22                72 Untitled1.ipynb\n",
      "               3개 파일                 279 바이트\n",
      "               4개 디렉터리  427,432,591,360 바이트 남음\n"
     ]
    }
   ],
   "source": [
    "%ls"
   ]
  },
  {
   "cell_type": "code",
   "execution_count": 2,
   "id": "89b90a51-bd69-488e-8a44-c98b98bbc223",
   "metadata": {},
   "outputs": [
    {
     "name": "stdout",
     "output_type": "stream",
     "text": [
      "1 의 제곱은  1\n",
      "2 의 제곱은  4\n",
      "3 의 제곱은  9\n"
     ]
    }
   ],
   "source": [
    "%run myscript.py"
   ]
  },
  {
   "cell_type": "code",
   "execution_count": null,
   "id": "5f8a2f43-b2e7-4fb7-91cd-b9d1a01ffb85",
   "metadata": {},
   "outputs": [],
   "source": []
  }
 ],
 "metadata": {
  "kernelspec": {
   "display_name": "Python 3 (ipykernel)",
   "language": "python",
   "name": "python3"
  },
  "language_info": {
   "codemirror_mode": {
    "name": "ipython",
    "version": 3
   },
   "file_extension": ".py",
   "mimetype": "text/x-python",
   "name": "python",
   "nbconvert_exporter": "python",
   "pygments_lexer": "ipython3",
   "version": "3.9.13"
  }
 },
 "nbformat": 4,
 "nbformat_minor": 5
}
