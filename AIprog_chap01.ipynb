{
 "cells": [
  {
   "cell_type": "code",
   "execution_count": 1,
   "id": "cc47fb75-2502-4ff8-bd52-bdef40eb9d29",
   "metadata": {},
   "outputs": [
    {
     "name": "stdout",
     "output_type": "stream",
     "text": [
      " C 드라이브의 볼륨에는 이름이 없습니다.\n",
      " 볼륨 일련 번호: 58B3-92B1\n",
      "\n",
      " C:\\Python\\AI프로그래밍 디렉터리\n",
      "\n",
      "2024-11-12  오전 11:22    <DIR>          .\n",
      "2024-11-12  오전 11:22    <DIR>          ..\n",
      "2024-11-12  오전 11:22    <DIR>          .ipynb_checkpoints\n",
      "2024-11-12  오전 10:51               135 myscript.py\n",
      "2024-11-12  오전 09:30    <DIR>          PythonDataScienceHandbook-master\n",
      "2024-11-12  오전 11:20                72 Untitled.ipynb\n",
      "2024-11-12  오전 11:22                72 Untitled1.ipynb\n",
      "               3개 파일                 279 바이트\n",
      "               4개 디렉터리  427,432,591,360 바이트 남음\n"
     ]
    }
   ],
   "source": [
    "%ls"
   ]
  },
  {
   "cell_type": "code",
   "execution_count": 2,
   "id": "89b90a51-bd69-488e-8a44-c98b98bbc223",
   "metadata": {},
   "outputs": [
    {
     "name": "stdout",
     "output_type": "stream",
     "text": [
      "1 의 제곱은  1\n",
      "2 의 제곱은  4\n",
      "3 의 제곱은  9\n"
     ]
    }
   ],
   "source": [
    "%run myscript.py"
   ]
  },
  {
   "cell_type": "code",
   "execution_count": 1,
   "id": "5f8a2f43-b2e7-4fb7-91cd-b9d1a01ffb85",
   "metadata": {},
   "outputs": [],
   "source": [
    "import numpy"
   ]
  },
  {
   "cell_type": "code",
   "execution_count": 2,
   "id": "b01ae188-db55-4af9-8341-29633d9c4d0a",
   "metadata": {},
   "outputs": [
    {
     "name": "stdout",
     "output_type": "stream",
     "text": [
      "Requirement already satisfied: numpy in c:\\users\\user\\appdata\\roaming\\python\\python39\\site-packages (2.0.2)\n"
     ]
    }
   ],
   "source": [
    "!pip install numpy"
   ]
  },
  {
   "cell_type": "code",
   "execution_count": 3,
   "id": "c5dd6fdc-6bcf-4a7c-a01b-aaa70fe1be8e",
   "metadata": {},
   "outputs": [],
   "source": [
    "import numpy as np"
   ]
  },
  {
   "cell_type": "code",
   "execution_count": 4,
   "id": "98db7b39-02bb-4a40-8e08-b1ca7fb8ba3b",
   "metadata": {},
   "outputs": [],
   "source": [
    "x=4"
   ]
  },
  {
   "cell_type": "code",
   "execution_count": 5,
   "id": "d31a2878-4c3e-4ad2-b32b-0ab82b4c00df",
   "metadata": {},
   "outputs": [],
   "source": [
    "x='abc'"
   ]
  },
  {
   "cell_type": "code",
   "execution_count": 6,
   "id": "77b3717c-4dbd-4311-bda3-2e4f97467d33",
   "metadata": {},
   "outputs": [],
   "source": [
    "result = 0\n",
    "for i in range(100):\n",
    "    result += i"
   ]
  },
  {
   "cell_type": "code",
   "execution_count": 7,
   "id": "d3b7dd73-af74-4dfe-b2fa-b52a90226896",
   "metadata": {},
   "outputs": [],
   "source": [
    "L = list(range(10))"
   ]
  },
  {
   "cell_type": "code",
   "execution_count": 8,
   "id": "2af4ed48-8a50-4434-bdf9-e8926e6e789a",
   "metadata": {},
   "outputs": [
    {
     "data": {
      "text/plain": [
       "[0, 1, 2, 3, 4, 5, 6, 7, 8, 9]"
      ]
     },
     "execution_count": 8,
     "metadata": {},
     "output_type": "execute_result"
    }
   ],
   "source": [
    "L"
   ]
  },
  {
   "cell_type": "code",
   "execution_count": 9,
   "id": "d40e6173-2e05-424e-93e8-d149b5aa84d1",
   "metadata": {},
   "outputs": [
    {
     "data": {
      "text/plain": [
       "int"
      ]
     },
     "execution_count": 9,
     "metadata": {},
     "output_type": "execute_result"
    }
   ],
   "source": [
    "type(L[0])"
   ]
  },
  {
   "cell_type": "code",
   "execution_count": 10,
   "id": "debb957e-0135-4254-8a82-0af393591791",
   "metadata": {},
   "outputs": [],
   "source": [
    "r = range(10)"
   ]
  },
  {
   "cell_type": "code",
   "execution_count": 11,
   "id": "40733106-5fc3-48d6-ba6c-a1edf219f8b2",
   "metadata": {},
   "outputs": [
    {
     "data": {
      "text/plain": [
       "range(0, 10)"
      ]
     },
     "execution_count": 11,
     "metadata": {},
     "output_type": "execute_result"
    }
   ],
   "source": [
    "r"
   ]
  },
  {
   "cell_type": "code",
   "execution_count": 12,
   "id": "22a1f0b4-076a-4780-912d-7ef28e6523f1",
   "metadata": {},
   "outputs": [
    {
     "data": {
      "text/plain": [
       "\u001b[1;31mType:\u001b[0m        range\n",
       "\u001b[1;31mString form:\u001b[0m range(0, 10)\n",
       "\u001b[1;31mLength:\u001b[0m      10\n",
       "\u001b[1;31mDocstring:\u001b[0m  \n",
       "range(stop) -> range object\n",
       "range(start, stop[, step]) -> range object\n",
       "\n",
       "Return an object that produces a sequence of integers from start (inclusive)\n",
       "to stop (exclusive) by step.  range(i, j) produces i, i+1, i+2, ..., j-1.\n",
       "start defaults to 0, and stop is omitted!  range(4) produces 0, 1, 2, 3.\n",
       "These are exactly the valid indices for a list of 4 elements.\n",
       "When step is given, it specifies the increment (or decrement)."
      ]
     },
     "metadata": {},
     "output_type": "display_data"
    }
   ],
   "source": [
    "r?"
   ]
  },
  {
   "cell_type": "code",
   "execution_count": 14,
   "id": "e0bb502a-e18d-4335-b69f-b83825ee7d72",
   "metadata": {},
   "outputs": [
    {
     "data": {
      "text/plain": [
       "array('i', [0, 1, 2, 3, 4, 5, 6, 7, 8, 9])"
      ]
     },
     "execution_count": 14,
     "metadata": {},
     "output_type": "execute_result"
    }
   ],
   "source": [
    "import array\n",
    "L = list(range(10))\n",
    "A = array.array('i', L)\n",
    "A"
   ]
  },
  {
   "cell_type": "code",
   "execution_count": 15,
   "id": "0cdc5cd2-398b-4d8f-b740-0d0b8518c553",
   "metadata": {},
   "outputs": [],
   "source": [
    "import numpy as np"
   ]
  },
  {
   "cell_type": "code",
   "execution_count": 19,
   "id": "1e8b035f-c632-455c-9445-bc099d012514",
   "metadata": {},
   "outputs": [],
   "source": [
    "n = np.array([1,2,3,4])"
   ]
  },
  {
   "cell_type": "code",
   "execution_count": 20,
   "id": "73ce2b21-e5f3-4b1a-9e9c-44668f63d5e7",
   "metadata": {},
   "outputs": [
    {
     "data": {
      "text/plain": [
       "array([1, 2, 3, 4])"
      ]
     },
     "execution_count": 20,
     "metadata": {},
     "output_type": "execute_result"
    }
   ],
   "source": [
    "n"
   ]
  },
  {
   "cell_type": "code",
   "execution_count": 21,
   "id": "9a182d4b-8b5e-4d7c-84ff-e03f7c59ff71",
   "metadata": {},
   "outputs": [
    {
     "data": {
      "text/plain": [
       "array([3.14, 4.  , 2.  , 3.  ])"
      ]
     },
     "execution_count": 21,
     "metadata": {},
     "output_type": "execute_result"
    }
   ],
   "source": [
    "np.array([3.14, 4, 2, 3])"
   ]
  },
  {
   "cell_type": "code",
   "execution_count": 22,
   "id": "bce486e8-548d-436d-ac0e-3a5593f1f87d",
   "metadata": {},
   "outputs": [
    {
     "data": {
      "text/plain": [
       "array([3.14, 4.  , 2.  , 3.  ], dtype=float32)"
      ]
     },
     "execution_count": 22,
     "metadata": {},
     "output_type": "execute_result"
    }
   ],
   "source": [
    "np.array([3.14, 4, 2, 3], dtype='float32')"
   ]
  },
  {
   "cell_type": "code",
   "execution_count": 23,
   "id": "b37c40dc-830e-44fa-9183-64a3642ad08e",
   "metadata": {},
   "outputs": [
    {
     "data": {
      "text/plain": [
       "array([[2, 3, 4],\n",
       "       [4, 5, 6],\n",
       "       [6, 7, 8]])"
      ]
     },
     "execution_count": 23,
     "metadata": {},
     "output_type": "execute_result"
    }
   ],
   "source": [
    "np.array([range(i, i+3) for i in [2, 4, 6]])"
   ]
  },
  {
   "cell_type": "code",
   "execution_count": 24,
   "id": "9b15315f-5e1f-40ef-8e8f-cbc9cc9651fb",
   "metadata": {},
   "outputs": [
    {
     "data": {
      "text/plain": [
       "array([0, 0, 0, 0, 0, 0, 0, 0, 0, 0])"
      ]
     },
     "execution_count": 24,
     "metadata": {},
     "output_type": "execute_result"
    }
   ],
   "source": [
    "np.zeros(10, dtype=int)"
   ]
  },
  {
   "cell_type": "code",
   "execution_count": 25,
   "id": "a0306caf-8917-47be-94b4-5e5aded2a849",
   "metadata": {},
   "outputs": [
    {
     "data": {
      "text/plain": [
       "array([1, 1, 1, 1, 1, 1, 1, 1, 1, 1])"
      ]
     },
     "execution_count": 25,
     "metadata": {},
     "output_type": "execute_result"
    }
   ],
   "source": [
    "np.ones(10, dtype=int)"
   ]
  },
  {
   "cell_type": "code",
   "execution_count": 27,
   "id": "32ab786c-7a4d-4a2d-9f2e-d195b22558ce",
   "metadata": {},
   "outputs": [
    {
     "data": {
      "text/plain": [
       "array([ 0,  2,  4,  6,  8, 10, 12, 14, 16, 18])"
      ]
     },
     "execution_count": 27,
     "metadata": {},
     "output_type": "execute_result"
    }
   ],
   "source": [
    "np.arange(0,20,2)   ## 기억할 것!! 0부터 20까지 2씩 증가"
   ]
  },
  {
   "cell_type": "code",
   "execution_count": 28,
   "id": "6c8b743c-24a1-4dc8-a779-dc2a3b7a0c62",
   "metadata": {},
   "outputs": [
    {
     "data": {
      "text/plain": [
       "array([ 0,  3,  6,  9, 12, 15, 18])"
      ]
     },
     "execution_count": 28,
     "metadata": {},
     "output_type": "execute_result"
    }
   ],
   "source": [
    "np.arange(0,20,3)"
   ]
  },
  {
   "cell_type": "code",
   "execution_count": 29,
   "id": "4b9f73de-274d-458c-a2d5-1af74c8e230d",
   "metadata": {},
   "outputs": [
    {
     "data": {
      "text/plain": [
       "array([0.  , 0.25, 0.5 , 0.75, 1.  ])"
      ]
     },
     "execution_count": 29,
     "metadata": {},
     "output_type": "execute_result"
    }
   ],
   "source": [
    "np.linspace(0,1,5)   ## 0에서 1까지의 구간에 5개 간격"
   ]
  },
  {
   "cell_type": "code",
   "execution_count": 31,
   "id": "79cc9cfa-d085-4cde-a0de-c0914eb11827",
   "metadata": {},
   "outputs": [
    {
     "data": {
      "text/plain": [
       "array([0.        , 0.11111111, 0.22222222, 0.33333333, 0.44444444,\n",
       "       0.55555556, 0.66666667, 0.77777778, 0.88888889, 1.        ])"
      ]
     },
     "execution_count": 31,
     "metadata": {},
     "output_type": "execute_result"
    }
   ],
   "source": [
    "np.linspace(0,1,10)   ## 0에서 1까지의 구간에 10개 간격"
   ]
  },
  {
   "cell_type": "code",
   "execution_count": 33,
   "id": "4463d9bf-6dea-44b9-acfb-e0af9267544e",
   "metadata": {},
   "outputs": [
    {
     "data": {
      "text/plain": [
       "array([[-0.73238529,  0.52933737,  0.34826696],\n",
       "       [-0.57067828,  0.36159877,  0.99267149],\n",
       "       [ 1.65064449, -0.42967936,  0.10074468]])"
      ]
     },
     "execution_count": 33,
     "metadata": {},
     "output_type": "execute_result"
    }
   ],
   "source": [
    "np.random.normal(0,1,(3,3))"
   ]
  },
  {
   "cell_type": "code",
   "execution_count": 34,
   "id": "8410148a-75d0-4fab-9184-1bc49041cf26",
   "metadata": {},
   "outputs": [
    {
     "data": {
      "text/plain": [
       "array([[7, 3, 2],\n",
       "       [7, 8, 9],\n",
       "       [1, 8, 8]], dtype=int32)"
      ]
     },
     "execution_count": 34,
     "metadata": {},
     "output_type": "execute_result"
    }
   ],
   "source": [
    "np.random.randint(0,10,(3,3))"
   ]
  },
  {
   "cell_type": "code",
   "execution_count": 56,
   "id": "3209ee2f-580d-473e-be78-1ca980304f6f",
   "metadata": {},
   "outputs": [],
   "source": [
    "np.random.seed(0)   ## seed값을 주면 random이더라도 항상 같은 값이 나옴\n",
    "x1=np.random.randint(10,size=6)\n",
    "x2=np.random.randint(10,size=(3,4))\n",
    "x3=np.random.randint(10,size=(3,4,5))"
   ]
  },
  {
   "cell_type": "code",
   "execution_count": 59,
   "id": "6e3e858c-a3e6-4d23-a611-83f4d0d16610",
   "metadata": {},
   "outputs": [
    {
     "data": {
      "text/plain": [
       "array([[[1, 2, 4, 2, 0],\n",
       "        [3, 2, 0, 7, 5],\n",
       "        [9, 0, 2, 7, 2],\n",
       "        [9, 2, 3, 3, 2]],\n",
       "\n",
       "       [[3, 4, 1, 2, 9],\n",
       "        [1, 4, 6, 8, 2],\n",
       "        [3, 0, 0, 6, 0],\n",
       "        [6, 3, 3, 8, 8]],\n",
       "\n",
       "       [[8, 2, 3, 2, 0],\n",
       "        [8, 8, 3, 8, 2],\n",
       "        [8, 4, 3, 0, 4],\n",
       "        [3, 6, 9, 8, 0]]], dtype=int32)"
      ]
     },
     "execution_count": 59,
     "metadata": {},
     "output_type": "execute_result"
    }
   ],
   "source": [
    "x1\n",
    "x2\n",
    "x3"
   ]
  },
  {
   "cell_type": "code",
   "execution_count": 58,
   "id": "15716cc3-fa40-4798-8f42-ab6363e2d648",
   "metadata": {},
   "outputs": [
    {
     "name": "stdout",
     "output_type": "stream",
     "text": [
      "x3 ndim 3\n"
     ]
    }
   ],
   "source": [
    "print(\"x3 ndim\", x3.ndim)\n"
   ]
  },
  {
   "cell_type": "code",
   "execution_count": 61,
   "id": "c5f7a787-8c23-4b45-be67-c77a047868e9",
   "metadata": {},
   "outputs": [
    {
     "name": "stdout",
     "output_type": "stream",
     "text": [
      "x3 shape (3, 4, 5)\n"
     ]
    }
   ],
   "source": [
    "print(\"x3 shape\", x3.shape)"
   ]
  },
  {
   "cell_type": "code",
   "execution_count": 63,
   "id": "f40f809b-acf1-4eb7-b8ce-f05c2c287c70",
   "metadata": {},
   "outputs": [
    {
     "data": {
      "text/plain": [
       "np.int32(4)"
      ]
     },
     "execution_count": 63,
     "metadata": {},
     "output_type": "execute_result"
    }
   ],
   "source": [
    "x1[-1]"
   ]
  },
  {
   "cell_type": "code",
   "execution_count": 64,
   "id": "72c1aabc-7795-4108-ab47-73313a250911",
   "metadata": {},
   "outputs": [
    {
     "data": {
      "text/plain": [
       "array([[3, 7, 5, 5],\n",
       "       [0, 1, 5, 9],\n",
       "       [3, 0, 5, 0]], dtype=int32)"
      ]
     },
     "execution_count": 64,
     "metadata": {},
     "output_type": "execute_result"
    }
   ],
   "source": [
    "x2"
   ]
  },
  {
   "cell_type": "code",
   "execution_count": 65,
   "id": "17e044c3-0489-43b0-a554-1a299c3cd52c",
   "metadata": {},
   "outputs": [
    {
     "data": {
      "text/plain": [
       "array([0, 1, 5, 9], dtype=int32)"
      ]
     },
     "execution_count": 65,
     "metadata": {},
     "output_type": "execute_result"
    }
   ],
   "source": [
    "x2[-2]"
   ]
  },
  {
   "cell_type": "code",
   "execution_count": 66,
   "id": "fb6a5ecc-8edd-4ca0-bab8-e36607b0a93e",
   "metadata": {},
   "outputs": [
    {
     "data": {
      "text/plain": [
       "np.int32(9)"
      ]
     },
     "execution_count": 66,
     "metadata": {},
     "output_type": "execute_result"
    }
   ],
   "source": [
    "x2[-2,-1]"
   ]
  },
  {
   "cell_type": "code",
   "execution_count": 67,
   "id": "47718efd-b3cd-4926-bbfd-58bc0ac20c80",
   "metadata": {},
   "outputs": [
    {
     "data": {
      "text/plain": [
       "array([3, 4], dtype=int32)"
      ]
     },
     "execution_count": 67,
     "metadata": {},
     "output_type": "execute_result"
    }
   ],
   "source": [
    "x1[1:5:2]"
   ]
  },
  {
   "cell_type": "code",
   "execution_count": 68,
   "id": "cf8514f1-e7ed-42b1-a211-9f426eac4b3b",
   "metadata": {},
   "outputs": [
    {
     "data": {
      "text/plain": [
       "array([4, 3, 4, 4, 8, 4], dtype=int32)"
      ]
     },
     "execution_count": 68,
     "metadata": {},
     "output_type": "execute_result"
    }
   ],
   "source": [
    "x1"
   ]
  },
  {
   "cell_type": "code",
   "execution_count": 69,
   "id": "b254f14c-4456-41b5-98ac-25b5b28f35cd",
   "metadata": {},
   "outputs": [
    {
     "data": {
      "text/plain": [
       "'abc'"
      ]
     },
     "execution_count": 69,
     "metadata": {},
     "output_type": "execute_result"
    }
   ],
   "source": [
    "x"
   ]
  },
  {
   "cell_type": "code",
   "execution_count": 70,
   "id": "f8ba63e8-10e4-46fe-b97e-f8b684a4d4d3",
   "metadata": {},
   "outputs": [],
   "source": [
    "x=np.arange(10)"
   ]
  },
  {
   "cell_type": "code",
   "execution_count": 71,
   "id": "cadf0014-2c36-4097-891b-a3996859e19b",
   "metadata": {},
   "outputs": [
    {
     "data": {
      "text/plain": [
       "array([0, 1, 2, 3, 4, 5, 6, 7, 8, 9])"
      ]
     },
     "execution_count": 71,
     "metadata": {},
     "output_type": "execute_result"
    }
   ],
   "source": [
    "x"
   ]
  },
  {
   "cell_type": "code",
   "execution_count": 72,
   "id": "0c65084e-b221-4609-bf68-bc9a371e2988",
   "metadata": {},
   "outputs": [
    {
     "data": {
      "text/plain": [
       "array([3, 5, 7])"
      ]
     },
     "execution_count": 72,
     "metadata": {},
     "output_type": "execute_result"
    }
   ],
   "source": [
    "x[3:9:2]"
   ]
  },
  {
   "cell_type": "code",
   "execution_count": 73,
   "id": "22121972-e3ac-4f39-9518-72425495bc08",
   "metadata": {},
   "outputs": [
    {
     "data": {
      "text/plain": [
       "array([0, 2, 4, 6, 8])"
      ]
     },
     "execution_count": 73,
     "metadata": {},
     "output_type": "execute_result"
    }
   ],
   "source": [
    "x[::2]"
   ]
  },
  {
   "cell_type": "code",
   "execution_count": 74,
   "id": "29b8f357-549c-49f6-8103-f8138708f791",
   "metadata": {},
   "outputs": [
    {
     "data": {
      "text/plain": [
       "array([[3, 7, 5, 5],\n",
       "       [0, 1, 5, 9],\n",
       "       [3, 0, 5, 0]], dtype=int32)"
      ]
     },
     "execution_count": 74,
     "metadata": {},
     "output_type": "execute_result"
    }
   ],
   "source": [
    "x2"
   ]
  },
  {
   "cell_type": "code",
   "execution_count": 75,
   "id": "3b5c8128-597c-4dba-ad37-fbacf336b923",
   "metadata": {},
   "outputs": [
    {
     "data": {
      "text/plain": [
       "array([[3, 7, 5],\n",
       "       [0, 1, 5]], dtype=int32)"
      ]
     },
     "execution_count": 75,
     "metadata": {},
     "output_type": "execute_result"
    }
   ],
   "source": [
    "x2[:2,:3]"
   ]
  },
  {
   "cell_type": "code",
   "execution_count": 76,
   "id": "9ac69559-d64d-48df-89cf-921e171c0339",
   "metadata": {},
   "outputs": [
    {
     "data": {
      "text/plain": [
       "array([[0, 5, 0, 3],\n",
       "       [9, 5, 1, 0],\n",
       "       [5, 5, 7, 3]], dtype=int32)"
      ]
     },
     "execution_count": 76,
     "metadata": {},
     "output_type": "execute_result"
    }
   ],
   "source": [
    "x2[::-1,::-1]"
   ]
  },
  {
   "cell_type": "code",
   "execution_count": 80,
   "id": "d6a55d9d-97bd-4e93-a034-bfb09546c063",
   "metadata": {},
   "outputs": [],
   "source": [
    "l = [1,2,3,4,5,6,7]\n",
    "l2 = l[:2:-1]   ##  슬라이싱은 사본을 만든다. l2를 수정해도 l은 변하지 않음"
   ]
  },
  {
   "cell_type": "code",
   "execution_count": 81,
   "id": "9b16e1b4-4d94-400c-811f-f28a13654100",
   "metadata": {},
   "outputs": [
    {
     "data": {
      "text/plain": [
       "[7, 6, 5, 4]"
      ]
     },
     "execution_count": 81,
     "metadata": {},
     "output_type": "execute_result"
    }
   ],
   "source": [
    "l2"
   ]
  },
  {
   "cell_type": "code",
   "execution_count": 83,
   "id": "1321c533-f689-4d91-bc31-681bf19c35f6",
   "metadata": {},
   "outputs": [],
   "source": [
    "l2[0]=77"
   ]
  },
  {
   "cell_type": "code",
   "execution_count": 84,
   "id": "1d470447-ab58-4b90-b190-12816689033c",
   "metadata": {},
   "outputs": [
    {
     "data": {
      "text/plain": [
       "[77, 6, 5, 4]"
      ]
     },
     "execution_count": 84,
     "metadata": {},
     "output_type": "execute_result"
    }
   ],
   "source": [
    "l2"
   ]
  },
  {
   "cell_type": "code",
   "execution_count": 85,
   "id": "3b1f0699-8476-4a86-b05d-3a7d7547b755",
   "metadata": {},
   "outputs": [
    {
     "data": {
      "text/plain": [
       "[1, 2, 3, 4, 5, 6, 7]"
      ]
     },
     "execution_count": 85,
     "metadata": {},
     "output_type": "execute_result"
    }
   ],
   "source": [
    "l"
   ]
  },
  {
   "cell_type": "code",
   "execution_count": 89,
   "id": "0a58abbd-7582-4809-810d-bc0eff757290",
   "metadata": {},
   "outputs": [],
   "source": [
    "x2_1 = x2[::-1,::-1]  ## 사본이 아니고 view를 제공"
   ]
  },
  {
   "cell_type": "code",
   "execution_count": 90,
   "id": "61ecf02f-794d-4678-8efb-a3e20dafd1b1",
   "metadata": {},
   "outputs": [
    {
     "data": {
      "text/plain": [
       "array([[0, 5, 0, 3],\n",
       "       [9, 5, 1, 0],\n",
       "       [5, 5, 7, 3]], dtype=int32)"
      ]
     },
     "execution_count": 90,
     "metadata": {},
     "output_type": "execute_result"
    }
   ],
   "source": [
    "x2_1"
   ]
  },
  {
   "cell_type": "code",
   "execution_count": 91,
   "id": "bbf318b2-a164-4dfb-9668-b7a75c64dd40",
   "metadata": {},
   "outputs": [],
   "source": [
    "x2_1[0,0]=99   ## 변경하면 원본이 수정"
   ]
  },
  {
   "cell_type": "code",
   "execution_count": 92,
   "id": "c0408fd9-510a-44b3-a95e-b59c7c3d424a",
   "metadata": {},
   "outputs": [
    {
     "data": {
      "text/plain": [
       "array([[99,  5,  0,  3],\n",
       "       [ 9,  5,  1,  0],\n",
       "       [ 5,  5,  7,  3]], dtype=int32)"
      ]
     },
     "execution_count": 92,
     "metadata": {},
     "output_type": "execute_result"
    }
   ],
   "source": [
    "x2_1"
   ]
  },
  {
   "cell_type": "code",
   "execution_count": 93,
   "id": "461815ca-ac73-4b6f-a69b-dd09ef61cac7",
   "metadata": {},
   "outputs": [
    {
     "data": {
      "text/plain": [
       "array([[ 3,  7,  5,  5],\n",
       "       [ 0,  1,  5,  9],\n",
       "       [ 3,  0,  5, 99]], dtype=int32)"
      ]
     },
     "execution_count": 93,
     "metadata": {},
     "output_type": "execute_result"
    }
   ],
   "source": [
    "x2"
   ]
  },
  {
   "cell_type": "code",
   "execution_count": 94,
   "id": "26c2a0d1-396d-4ce8-85e8-6f5273da6a3c",
   "metadata": {},
   "outputs": [],
   "source": [
    "x2_1 = x2[::-1,::-1].copy()   ##.copy()를 붙여야 사본 생성 (numpy 배열 슬라이싱에서)"
   ]
  },
  {
   "cell_type": "code",
   "execution_count": 95,
   "id": "2a837a9d-d3d9-45de-87b3-c47b863a06b9",
   "metadata": {},
   "outputs": [],
   "source": [
    "x2_1[1,1]=88"
   ]
  },
  {
   "cell_type": "code",
   "execution_count": 96,
   "id": "e51a901c-3580-4dbe-a6d4-4bf92bbedf55",
   "metadata": {},
   "outputs": [
    {
     "data": {
      "text/plain": [
       "array([[99,  5,  0,  3],\n",
       "       [ 9, 88,  1,  0],\n",
       "       [ 5,  5,  7,  3]], dtype=int32)"
      ]
     },
     "execution_count": 96,
     "metadata": {},
     "output_type": "execute_result"
    }
   ],
   "source": [
    "x2_1"
   ]
  },
  {
   "cell_type": "code",
   "execution_count": 97,
   "id": "c8b2b7ed-491d-474f-b3f0-4b7b02710440",
   "metadata": {},
   "outputs": [
    {
     "data": {
      "text/plain": [
       "array([[ 3,  7,  5,  5],\n",
       "       [ 0,  1,  5,  9],\n",
       "       [ 3,  0,  5, 99]], dtype=int32)"
      ]
     },
     "execution_count": 97,
     "metadata": {},
     "output_type": "execute_result"
    }
   ],
   "source": [
    "x2"
   ]
  },
  {
   "cell_type": "code",
   "execution_count": 98,
   "id": "e080ce6e-3abc-4a2f-af96-077b397e6673",
   "metadata": {},
   "outputs": [
    {
     "data": {
      "text/plain": [
       "array([1, 2, 3, 4, 5, 6, 7, 8, 9])"
      ]
     },
     "execution_count": 98,
     "metadata": {},
     "output_type": "execute_result"
    }
   ],
   "source": [
    "grid = np.arange(1,10)\n",
    "grid"
   ]
  },
  {
   "cell_type": "code",
   "execution_count": 103,
   "id": "8e259707-ff09-467d-a619-33870fae3903",
   "metadata": {},
   "outputs": [],
   "source": [
    "grid = grid.reshape((3,3))"
   ]
  },
  {
   "cell_type": "code",
   "execution_count": 101,
   "id": "042386bb-fba8-450d-9230-290b5e39b3f7",
   "metadata": {},
   "outputs": [
    {
     "data": {
      "text/plain": [
       "array([[1, 2, 3],\n",
       "       [4, 5, 6],\n",
       "       [7, 8, 9]])"
      ]
     },
     "execution_count": 101,
     "metadata": {},
     "output_type": "execute_result"
    }
   ],
   "source": [
    "grid"
   ]
  },
  {
   "cell_type": "code",
   "execution_count": 105,
   "id": "d1344a2f-da88-42e2-8d5a-5f9720f1cabf",
   "metadata": {},
   "outputs": [
    {
     "data": {
      "text/plain": [
       "array([[1, 2, 3, 4, 5, 6, 7, 8, 9]])"
      ]
     },
     "execution_count": 105,
     "metadata": {},
     "output_type": "execute_result"
    }
   ],
   "source": [
    "grid.reshape(1,9)"
   ]
  },
  {
   "cell_type": "code",
   "execution_count": 106,
   "id": "c8b471ff-4f9a-4164-af4a-00230b363fa3",
   "metadata": {},
   "outputs": [
    {
     "data": {
      "text/plain": [
       "array([[[1, 2, 3],\n",
       "        [4, 5, 6],\n",
       "        [7, 8, 9]]])"
      ]
     },
     "execution_count": 106,
     "metadata": {},
     "output_type": "execute_result"
    }
   ],
   "source": [
    "grid [np.newaxis, :]"
   ]
  },
  {
   "cell_type": "code",
   "execution_count": 107,
   "id": "d7971131-66f5-4e50-81d7-96c00c668936",
   "metadata": {},
   "outputs": [],
   "source": [
    "x = np.array([1,2,3])"
   ]
  },
  {
   "cell_type": "code",
   "execution_count": 108,
   "id": "50965cef-0919-49a5-b558-bbcec396f55d",
   "metadata": {},
   "outputs": [
    {
     "data": {
      "text/plain": [
       "array([[1, 2, 3]])"
      ]
     },
     "execution_count": 108,
     "metadata": {},
     "output_type": "execute_result"
    }
   ],
   "source": [
    "x[np.newaxis, :]"
   ]
  },
  {
   "cell_type": "code",
   "execution_count": 110,
   "id": "c6e6e161-1035-4cd6-aaa7-2a52608960f4",
   "metadata": {},
   "outputs": [
    {
     "data": {
      "text/plain": [
       "array([[1],\n",
       "       [2],\n",
       "       [3]])"
      ]
     },
     "execution_count": 110,
     "metadata": {},
     "output_type": "execute_result"
    }
   ],
   "source": [
    "x[:,np.newaxis]"
   ]
  },
  {
   "cell_type": "code",
   "execution_count": null,
   "id": "0d4ad425-4c24-4a24-b86d-ebdab1caf171",
   "metadata": {},
   "outputs": [],
   "source": []
  }
 ],
 "metadata": {
  "kernelspec": {
   "display_name": "Python 3 (ipykernel)",
   "language": "python",
   "name": "python3"
  },
  "language_info": {
   "codemirror_mode": {
    "name": "ipython",
    "version": 3
   },
   "file_extension": ".py",
   "mimetype": "text/x-python",
   "name": "python",
   "nbconvert_exporter": "python",
   "pygments_lexer": "ipython3",
   "version": "3.9.13"
  }
 },
 "nbformat": 4,
 "nbformat_minor": 5
}
