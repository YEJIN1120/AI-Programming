{
 "cells": [
  {
   "cell_type": "markdown",
   "id": "4d1fce39-44d1-4e93-a624-dae892f8234a",
   "metadata": {},
   "source": [
    "# 과제 10-5장 Linear Regression - 자전거 통행량 예측"
   ]
  },
  {
   "cell_type": "markdown",
   "id": "f26f0019-2290-4265-bd65-058a7833aa9d",
   "metadata": {},
   "source": [
    "시애틀 프리몬트 다리를 지나는 자전거 통행량을 날씨와 계절, 기타 요인에 따라 예측하시오. (p436 참고)"
   ]
  },
  {
   "cell_type": "markdown",
   "id": "f8e3dcd6-d2f7-4e29-9e71-4425591b3ecb",
   "metadata": {},
   "source": [
    "<img src=\"https://images.seattletimes.com/wp-content/uploads/2020/01/01022020_bike-count_114545.jpg?d=2040x1360\" width=400>\n",
    "\n",
    "Ken Lambert, \"Bike ridership hits record highs on 2 Seattle routes\", The Seattle Times, Jan. 6, 2020"
   ]
  },
  {
   "cell_type": "markdown",
   "id": "73847352-30c6-49f9-9076-758f78697797",
   "metadata": {},
   "source": []
  },
  {
   "cell_type": "markdown",
   "id": "6ef5b532",
   "metadata": {},
   "source": [
    "1. 교재에서 제공하는 FremontBridge.csv 파일과 SeattleWeather.csv 파일을 읽어 pandas 의 DataFrame 을 각각 생성하시오. (https://github.com/jakevdp/bicycle-data)"
   ]
  },
  {
   "cell_type": "code",
   "execution_count": 33,
   "id": "36f11814-9dc1-4f56-b473-c88b46d62b3f",
   "metadata": {},
   "outputs": [
    {
     "name": "stderr",
     "output_type": "stream",
     "text": [
      "C:\\Users\\user\\AppData\\Local\\Temp\\ipykernel_11876\\3122500661.py:2: UserWarning: Could not infer format, so each element will be parsed individually, falling back to `dateutil`. To ensure parsing is consistent and as-expected, please specify a format.\n",
      "  counts = pd.read_csv('FremontBridge.csv', index_col='Date', parse_dates=True).sort_index()\n"
     ]
    }
   ],
   "source": [
    "import pandas as pd\n",
    "counts = pd.read_csv('FremontBridge.csv', index_col='Date', parse_dates=True).sort_index()\n",
    "weather = pd.read_csv('SeattleWeather.csv', index_col='DATE', parse_dates=True).sort_index()"
   ]
  },
  {
   "cell_type": "markdown",
   "id": "0d5d3a96",
   "metadata": {},
   "source": [
    "2. 2020 년 이전 데이터만 선택하시오."
   ]
  },
  {
   "cell_type": "code",
   "execution_count": null,
   "id": "ce865590",
   "metadata": {},
   "outputs": [],
   "source": [
    "b_day_df = b_df"
   ]
  },
  {
   "cell_type": "code",
   "execution_count": 34,
   "id": "cc6caf74",
   "metadata": {},
   "outputs": [],
   "source": [
    "counts = counts[counts.index < \"2020-01-01\"]\n",
    "weather = weather[weather.index < \"2020-01-01\"]"
   ]
  },
  {
   "cell_type": "markdown",
   "id": "a552711c",
   "metadata": {},
   "source": [
    "3. 일별 총 자전거 통행량을 계산하고, 그 계산 결과를 'counts' 컬럼에 추가하시오."
   ]
  },
  {
   "cell_type": "code",
   "execution_count": 35,
   "id": "b86743a6",
   "metadata": {},
   "outputs": [],
   "source": [
    "daily = counts.resample('d').sum()\n",
    "daily['Total'] = daily.sum(axis=1)\n",
    "daily = daily[['Total']]   # 다른 열 삭제"
   ]
  },
  {
   "cell_type": "markdown",
   "id": "3fa19d0d",
   "metadata": {},
   "source": [
    "4. 월요일~일요일까지 요일을 이진 데이터로 각각 인코딩 하고, 그 결과를 요일을 나타내는 컬럼들(7개)에 추가하시오."
   ]
  },
  {
   "cell_type": "code",
   "execution_count": 36,
   "id": "409fad89",
   "metadata": {},
   "outputs": [],
   "source": [
    "days = ['Mon', 'Tue', 'Wed', 'Thu', 'Fri', 'Sat', 'Sun']\n",
    "for i in range(7):\n",
    "  daily[days[i]] = (daily.index.dayofweek == i).astype(float)"
   ]
  },
  {
   "cell_type": "markdown",
   "id": "991e2a79",
   "metadata": {},
   "source": [
    "5. 공휴일 여부를 이진 데이터로 인코딩 하고, 그 결과를 'holiday' 컬럼에 추가하시오."
   ]
  },
  {
   "cell_type": "code",
   "execution_count": 37,
   "id": "b5f754aa",
   "metadata": {},
   "outputs": [
    {
     "name": "stderr",
     "output_type": "stream",
     "text": [
      "C:\\Users\\user\\AppData\\Local\\Temp\\ipykernel_11876\\3085141007.py:5: FutureWarning: A value is trying to be set on a copy of a DataFrame or Series through chained assignment using an inplace method.\n",
      "The behavior will change in pandas 3.0. This inplace method will never work because the intermediate object on which we are setting values always behaves as a copy.\n",
      "\n",
      "For example, when doing 'df[col].method(value, inplace=True)', try using 'df.method({col: value}, inplace=True)' or df[col] = df[col].method(value) instead, to perform the operation inplace on the original object.\n",
      "\n",
      "\n",
      "  daily['holiday'].fillna(0, inplace=True)\n"
     ]
    }
   ],
   "source": [
    "from pandas.tseries.holiday import USFederalHolidayCalendar\n",
    "cal = USFederalHolidayCalendar()\n",
    "holidays = cal.holidays('2012', '2020')\n",
    "daily = daily.join(pd.Series(1, index=holidays, name='holiday'))\n",
    "daily['holiday'].fillna(0, inplace=True)"
   ]
  },
  {
   "cell_type": "markdown",
   "id": "e18b6d72",
   "metadata": {},
   "source": [
    "6. 일자별 평균 날씨 (TAVG) 를 계산한 후, 'temp' 컬럼에 추가하시오."
   ]
  },
  {
   "cell_type": "code",
   "execution_count": 38,
   "id": "1b5ac855",
   "metadata": {},
   "outputs": [],
   "source": [
    "weather['Temp (F)'] = 0.5 * (weather['TMIN'] + weather['TMAX'])\n"
   ]
  },
  {
   "cell_type": "markdown",
   "id": "edbe97a6",
   "metadata": {},
   "source": [
    "7. 일자별 강수량(PRCP)을 계산한 후, 'rainfall' 컬럼에 추가하시오."
   ]
  },
  {
   "cell_type": "code",
   "execution_count": 39,
   "id": "0ecdc451",
   "metadata": {},
   "outputs": [],
   "source": [
    "weather['Rainfall (in)'] = weather['PRCP']\n",
    "\n",
    "daily = daily.join(weather[['Rainfall (in)', 'Temp (F)']])"
   ]
  },
  {
   "cell_type": "code",
   "execution_count": 40,
   "id": "9e74442e",
   "metadata": {},
   "outputs": [
    {
     "data": {
      "text/html": [
       "<div>\n",
       "<style scoped>\n",
       "    .dataframe tbody tr th:only-of-type {\n",
       "        vertical-align: middle;\n",
       "    }\n",
       "\n",
       "    .dataframe tbody tr th {\n",
       "        vertical-align: top;\n",
       "    }\n",
       "\n",
       "    .dataframe thead th {\n",
       "        text-align: right;\n",
       "    }\n",
       "</style>\n",
       "<table border=\"1\" class=\"dataframe\">\n",
       "  <thead>\n",
       "    <tr style=\"text-align: right;\">\n",
       "      <th></th>\n",
       "      <th>Total</th>\n",
       "      <th>Mon</th>\n",
       "      <th>Tue</th>\n",
       "      <th>Wed</th>\n",
       "      <th>Thu</th>\n",
       "      <th>Fri</th>\n",
       "      <th>Sat</th>\n",
       "      <th>Sun</th>\n",
       "      <th>holiday</th>\n",
       "      <th>Rainfall (in)</th>\n",
       "      <th>Temp (F)</th>\n",
       "    </tr>\n",
       "    <tr>\n",
       "      <th>Date</th>\n",
       "      <th></th>\n",
       "      <th></th>\n",
       "      <th></th>\n",
       "      <th></th>\n",
       "      <th></th>\n",
       "      <th></th>\n",
       "      <th></th>\n",
       "      <th></th>\n",
       "      <th></th>\n",
       "      <th></th>\n",
       "      <th></th>\n",
       "    </tr>\n",
       "  </thead>\n",
       "  <tbody>\n",
       "    <tr>\n",
       "      <th>2012-10-03</th>\n",
       "      <td>14084.0</td>\n",
       "      <td>0.0</td>\n",
       "      <td>0.0</td>\n",
       "      <td>1.0</td>\n",
       "      <td>0.0</td>\n",
       "      <td>0.0</td>\n",
       "      <td>0.0</td>\n",
       "      <td>0.0</td>\n",
       "      <td>0.0</td>\n",
       "      <td>0.0</td>\n",
       "      <td>56.0</td>\n",
       "    </tr>\n",
       "    <tr>\n",
       "      <th>2012-10-04</th>\n",
       "      <td>13900.0</td>\n",
       "      <td>0.0</td>\n",
       "      <td>0.0</td>\n",
       "      <td>0.0</td>\n",
       "      <td>1.0</td>\n",
       "      <td>0.0</td>\n",
       "      <td>0.0</td>\n",
       "      <td>0.0</td>\n",
       "      <td>0.0</td>\n",
       "      <td>0.0</td>\n",
       "      <td>56.5</td>\n",
       "    </tr>\n",
       "    <tr>\n",
       "      <th>2012-10-05</th>\n",
       "      <td>12592.0</td>\n",
       "      <td>0.0</td>\n",
       "      <td>0.0</td>\n",
       "      <td>0.0</td>\n",
       "      <td>0.0</td>\n",
       "      <td>1.0</td>\n",
       "      <td>0.0</td>\n",
       "      <td>0.0</td>\n",
       "      <td>0.0</td>\n",
       "      <td>0.0</td>\n",
       "      <td>59.5</td>\n",
       "    </tr>\n",
       "    <tr>\n",
       "      <th>2012-10-06</th>\n",
       "      <td>8024.0</td>\n",
       "      <td>0.0</td>\n",
       "      <td>0.0</td>\n",
       "      <td>0.0</td>\n",
       "      <td>0.0</td>\n",
       "      <td>0.0</td>\n",
       "      <td>1.0</td>\n",
       "      <td>0.0</td>\n",
       "      <td>0.0</td>\n",
       "      <td>0.0</td>\n",
       "      <td>60.5</td>\n",
       "    </tr>\n",
       "    <tr>\n",
       "      <th>2012-10-07</th>\n",
       "      <td>8568.0</td>\n",
       "      <td>0.0</td>\n",
       "      <td>0.0</td>\n",
       "      <td>0.0</td>\n",
       "      <td>0.0</td>\n",
       "      <td>0.0</td>\n",
       "      <td>0.0</td>\n",
       "      <td>1.0</td>\n",
       "      <td>0.0</td>\n",
       "      <td>0.0</td>\n",
       "      <td>60.5</td>\n",
       "    </tr>\n",
       "  </tbody>\n",
       "</table>\n",
       "</div>"
      ],
      "text/plain": [
       "              Total  Mon  Tue  Wed  Thu  Fri  Sat  Sun  holiday  \\\n",
       "Date                                                              \n",
       "2012-10-03  14084.0  0.0  0.0  1.0  0.0  0.0  0.0  0.0      0.0   \n",
       "2012-10-04  13900.0  0.0  0.0  0.0  1.0  0.0  0.0  0.0      0.0   \n",
       "2012-10-05  12592.0  0.0  0.0  0.0  0.0  1.0  0.0  0.0      0.0   \n",
       "2012-10-06   8024.0  0.0  0.0  0.0  0.0  0.0  1.0  0.0      0.0   \n",
       "2012-10-07   8568.0  0.0  0.0  0.0  0.0  0.0  0.0  1.0      0.0   \n",
       "\n",
       "            Rainfall (in)  Temp (F)  \n",
       "Date                                 \n",
       "2012-10-03            0.0      56.0  \n",
       "2012-10-04            0.0      56.5  \n",
       "2012-10-05            0.0      59.5  \n",
       "2012-10-06            0.0      60.5  \n",
       "2012-10-07            0.0      60.5  "
      ]
     },
     "execution_count": 40,
     "metadata": {},
     "output_type": "execute_result"
    }
   ],
   "source": [
    "# daily['annual'] = (daily.index - daily.index[0]).days / 365.\n",
    "\n",
    "daily.head()"
   ]
  },
  {
   "cell_type": "markdown",
   "id": "7333ffd0",
   "metadata": {},
   "source": [
    "8. 데이터에서 NA 를 제거하시오."
   ]
  },
  {
   "cell_type": "code",
   "execution_count": 41,
   "id": "7add9841",
   "metadata": {},
   "outputs": [],
   "source": [
    "# 널 값을 갖는 행은 모두 제거\n",
    "daily.dropna(axis=0, how='any', inplace=True)"
   ]
  },
  {
   "cell_type": "markdown",
   "id": "464c5013",
   "metadata": {},
   "source": [
    "9. LinearRegression 모델을 이용하여 자전거 통행량을 예측하시오."
   ]
  },
  {
   "cell_type": "code",
   "execution_count": 43,
   "id": "6b62a3d1",
   "metadata": {},
   "outputs": [],
   "source": [
    "column_names = ['Mon', 'Tue', 'Wed', 'Thu', 'Fri', 'Sat', 'Sun', 'holiday', 'Rainfall (in)', 'Temp (F)']\n",
    "X = daily[column_names]\n",
    "y = daily['Total']\n",
    "\n",
    "from sklearn.linear_model import LinearRegression\n",
    "model = LinearRegression(fit_intercept=False)\n",
    "model.fit(X, y)\n",
    "daily['predicted'] = model.predict(X)"
   ]
  },
  {
   "cell_type": "markdown",
   "id": "7e62342b",
   "metadata": {},
   "source": [
    "10. Matplotlib 를 이용하여 예측 결과를 시각화 하시오."
   ]
  },
  {
   "cell_type": "code",
   "execution_count": 44,
   "id": "9eb2d33d",
   "metadata": {},
   "outputs": [
    {
     "data": {
      "text/plain": [
       "<Axes: xlabel='Date'>"
      ]
     },
     "execution_count": 44,
     "metadata": {},
     "output_type": "execute_result"
    },
    {
     "data": {
      "image/png": "[encoded data removed]",
      "text/plain": [
       "<Figure size 640x480 with 1 Axes>"
      ]
     },
     "metadata": {},
     "output_type": "display_data"
    }
   ],
   "source": [
    "daily['predicted'].plot(alpha=0.5)\n"
   ]
  }
 ],
 "metadata": {
  "kernelspec": {
   "display_name": "Python 3",
   "language": "python",
   "name": "python3"
  },
  "language_info": {
   "codemirror_mode": {
    "name": "ipython",
    "version": 3
   },
   "file_extension": ".py",
   "mimetype": "text/x-python",
   "name": "python",
   "nbconvert_exporter": "python",
   "pygments_lexer": "ipython3",
   "version": "3.9.13"
  }
 },
 "nbformat": 4,
 "nbformat_minor": 5
}
